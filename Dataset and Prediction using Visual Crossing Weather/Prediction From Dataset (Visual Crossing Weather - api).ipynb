{
 "cells": [
  {
   "cell_type": "code",
   "execution_count": 37,
   "metadata": {},
   "outputs": [
    {
     "name": "stdout",
     "output_type": "stream",
     "text": [
      "Mean Squared Error (Train): 0.007300175045369603\n",
      "Mean Squared Error (Test): 0.01728028509637043\n"
     ]
    }
   ],
   "source": [
    "import csv\n",
    "import numpy as np\n",
    "from sklearn.model_selection import train_test_split\n",
    "from sklearn.linear_model import LinearRegression\n",
    "from sklearn.metrics import mean_squared_error\n",
    "\n",
    "# Load data from the CSV file\n",
    "with open('Bangalore Weather Data (Visual Crossing Weather).csv', mode='r', newline='', encoding='utf-8') as file:\n",
    "    reader = csv.DictReader(file)\n",
    "    data = list(reader)\n",
    "\n",
    "# Convert data into features (X) and target (y)\n",
    "X = []\n",
    "y = []\n",
    "for row in data:\n",
    "    # Handle missing and empty values\n",
    "    temperature = float(row['Temperature']) if row['Temperature'] != 'None' else 0.0\n",
    "    min_temperature = float(row['Minimum Temperature']) if row['Minimum Temperature'] != 'None' else 0.0\n",
    "    max_temperature = float(row['Maximum Temperature']) if row['Maximum Temperature'] != 'None' else 0.0\n",
    "    wind_speed = float(row['Wind Speed']) if row['Wind Speed'] != 'None' else 0.0\n",
    "    sea_level_pressure = float(row['Sea Level Pressure']) if row['Sea Level Pressure'] != 'None' and row['Sea Level Pressure'] != '' else 0.0\n",
    "    \n",
    "    features = [temperature, min_temperature, max_temperature, wind_speed, sea_level_pressure]\n",
    "    target = float(row['Precipitation']) if row['Precipitation'] != 'None' else 0.0\n",
    "    \n",
    "    X.append(features)\n",
    "    y.append(target)\n",
    "\n",
    "# Convert lists to numpy arrays\n",
    "X = np.array(X)\n",
    "y = np.array(y)\n",
    "\n",
    "# Split data into training and testing sets\n",
    "X_train, X_test, y_train, y_test = train_test_split(X, y, test_size=0.2, random_state=42)\n",
    "\n",
    "# Train the linear regression model\n",
    "model = LinearRegression()\n",
    "model.fit(X_train, y_train)\n",
    "\n",
    "# Make predictions\n",
    "y_pred_train = model.predict(X_train)\n",
    "y_pred_test = model.predict(X_test)\n",
    "\n",
    "# Calculate mean squared error\n",
    "mse_train = mean_squared_error(y_train, y_pred_train)\n",
    "mse_test = mean_squared_error(y_test, y_pred_test)\n",
    "\n",
    "print(f\"Mean Squared Error (Train): {mse_train}\")\n",
    "print(f\"Mean Squared Error (Test): {mse_test}\") \n"
   ]
  },
  {
   "cell_type": "code",
   "execution_count": 38,
   "metadata": {},
   "outputs": [
    {
     "name": "stdout",
     "output_type": "stream",
     "text": [
      "R^2 Score (Train): 0.018549906576572073\n",
      "R^2 Score (Test): 0.021361685786716933\n"
     ]
    }
   ],
   "source": [
    "from sklearn.metrics import r2_score\n",
    "\n",
    "# Calculate R^2 score for train and test sets\n",
    "r2_train = r2_score(y_train, y_pred_train)\n",
    "r2_test = r2_score(y_test, y_pred_test)\n",
    "\n",
    "print(f\"R^2 Score (Train): {r2_train}\")\n",
    "print(f\"R^2 Score (Test): {r2_test}\")\n"
   ]
  },
  {
   "cell_type": "code",
   "execution_count": 39,
   "metadata": {},
   "outputs": [
    {
     "name": "stdout",
     "output_type": "stream",
     "text": [
      "1339\n"
     ]
    }
   ],
   "source": [
    "print(len(X_test))\n",
    "\n"
   ]
  },
  {
   "cell_type": "code",
   "execution_count": 40,
   "metadata": {},
   "outputs": [
    {
     "name": "stdout",
     "output_type": "stream",
     "text": [
      "Comparison of Predicted and Actual Rainfall (Binary Prediction):\n",
      "Day\t\tPredicted\tActual\n",
      "1\t\tNo\t\tNo\n",
      "2\t\tNo\t\tNo\n",
      "3\t\tNo\t\tNo\n",
      "4\t\tNo\t\tNo\n",
      "5\t\tNo\t\tNo\n"
     ]
    }
   ],
   "source": [
    "# Select 5 random indices from the test set\n",
    "import random\n",
    "random.seed(42)\n",
    "indices = random.sample(range(len(X_test)), 5)\n",
    "\n",
    "# Predict rainfall for the selected days\n",
    "predicted_rainfall = model.predict(X_test[indices])\n",
    "actual_rainfall = y_test[indices]\n",
    "\n",
    "# Set threshold for rainfall prediction (in mm)\n",
    "threshold = 0.1  # Example threshold value, adjust as needed\n",
    "\n",
    "# Convert predicted and actual rainfall to binary labels\n",
    "predicted_labels = ['Yes' if rainfall > threshold else 'No' for rainfall in predicted_rainfall]\n",
    "actual_labels = ['Yes' if rainfall > threshold else 'No' for rainfall in actual_rainfall]\n",
    "\n",
    "# Compare predicted and actual labels\n",
    "print(\"Comparison of Predicted and Actual Rainfall (Binary Prediction):\")\n",
    "print(\"Day\\t\\tPredicted\\tActual\")\n",
    "for i, idx in enumerate(indices):\n",
    "    print(f\"{i+1}\\t\\t{predicted_labels[i]}\\t\\t{actual_labels[i]}\")\n"
   ]
  },
  {
   "cell_type": "code",
   "execution_count": 41,
   "metadata": {},
   "outputs": [
    {
     "name": "stdout",
     "output_type": "stream",
     "text": [
      "Accuracy of predictions over 100 random days: 93.00%\n"
     ]
    }
   ],
   "source": [
    "# Select 100 random indices from the test set\n",
    "random.seed(42)\n",
    "indices = random.sample(range(len(X_test)), 100)\n",
    "\n",
    "# Predict rainfall for the selected days\n",
    "predicted_rainfall = model.predict(X_test[indices])\n",
    "\n",
    "# Convert predicted rainfall to binary labels based on the threshold\n",
    "predicted_labels = ['Yes' if pred > threshold else 'No' for pred in predicted_rainfall]\n",
    "actual_labels = ['Yes' if actual > threshold else 'No' for actual in y_test[indices]]\n",
    "\n",
    "# Calculate accuracy\n",
    "correct_predictions = sum(1 for pred, actual in zip(predicted_labels, actual_labels) if pred == actual)\n",
    "accuracy = correct_predictions / len(indices)\n",
    "\n",
    "print(f\"Accuracy of predictions over 100 random days: {accuracy * 100:.2f}%\")\n"
   ]
  }
 ],
 "metadata": {
  "kernelspec": {
   "display_name": "Python 3",
   "language": "python",
   "name": "python3"
  },
  "language_info": {
   "codemirror_mode": {
    "name": "ipython",
    "version": 3
   },
   "file_extension": ".py",
   "mimetype": "text/x-python",
   "name": "python",
   "nbconvert_exporter": "python",
   "pygments_lexer": "ipython3",
   "version": "3.12.2"
  }
 },
 "nbformat": 4,
 "nbformat_minor": 2
}
